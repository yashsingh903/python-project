{
 "cells": [
  {
   "cell_type": "code",
   "execution_count": 1,
   "id": "c93589be-c26e-4c2e-8a37-ab544ffa39c5",
   "metadata": {},
   "outputs": [
    {
     "name": "stdout",
     "output_type": "stream",
     "text": [
      "a note for class necessity i guess and will be file 1\n",
      "file two for the question\n",
      "Similar words found: {'for', 'file'}\n",
      "Total number of similar words: 2\n"
     ]
    }
   ],
   "source": [
    "with open('file1.txt', 'r') as file1, open('file2.txt', 'r') as file2:\n",
    "    # Read and split into words (case-insensitive)\n",
    "    words1 = file1.read().lower().split()\n",
    "    words2 = file2.read().lower().split()\n",
    "\n",
    "set1 = set(words1)\n",
    "set2 = set(words2)\n",
    "\n",
    "common_words = set1 & set2\n",
    "one = open('file1.txt')\n",
    "two = open('file2.txt')\n",
    "for line in one:\n",
    "    print(line)\n",
    "for line in two:\n",
    "    print(line)\n",
    "print(\"Similar words found:\", common_words)\n",
    "print(\"Total number of similar words:\", len(common_words))"
   ]
  },
  {
   "cell_type": "code",
   "execution_count": null,
   "id": "3daa7188-c272-48e4-bb7f-6547c76a6111",
   "metadata": {},
   "outputs": [],
   "source": []
  }
 ],
 "metadata": {
  "kernelspec": {
   "display_name": "Python 3 (ipykernel)",
   "language": "python",
   "name": "python3"
  },
  "language_info": {
   "codemirror_mode": {
    "name": "ipython",
    "version": 3
   },
   "file_extension": ".py",
   "mimetype": "text/x-python",
   "name": "python",
   "nbconvert_exporter": "python",
   "pygments_lexer": "ipython3",
   "version": "3.13.5"
  }
 },
 "nbformat": 4,
 "nbformat_minor": 5
}
